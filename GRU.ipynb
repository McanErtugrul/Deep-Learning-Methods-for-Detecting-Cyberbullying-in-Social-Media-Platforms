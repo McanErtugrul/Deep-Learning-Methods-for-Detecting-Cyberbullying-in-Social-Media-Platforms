{
 "cells": [
  {
   "cell_type": "code",
   "execution_count": 1,
   "metadata": {},
   "outputs": [],
   "source": [
    "import numpy as np\n",
    "import pandas as pd\n",
    "import pickle\n"
   ]
  },
  {
   "cell_type": "code",
   "execution_count": 2,
   "metadata": {},
   "outputs": [],
   "source": [
    "from nltk.corpus import stopwords\n",
    "from nltk.tokenize import word_tokenize\n",
    "from tensorflow.python.keras.models import Sequential\n",
    "from sklearn.model_selection import train_test_split\n",
    "from tensorflow.python.keras.layers import Dense, Dropout, GRU, Embedding, CuDNNGRU ,Conv2D, Flatten , CuDNNLSTM\n",
    "from tensorflow.python.keras.optimizers import Adam\n",
    "from tensorflow.python.keras.preprocessing.text import Tokenizer\n",
    "from tensorflow.python.keras.preprocessing.sequence import pad_sequences\n",
    "EMBEDDING_DIM = 100      # embedding dimensions for word vectors (word2vec/GloVe)\n",
    "GLOVE_DIR = \"glove/glove.6B.\"+str(EMBEDDING_DIM)+\"d.txt\""
   ]
  },
  {
   "cell_type": "code",
   "execution_count": 3,
   "metadata": {},
   "outputs": [],
	"source": [
    "dataset = pd.read_csv('data.csv')\n",
    "df=pd.DataFrame(data,columns=['text','label'])\n",
    "\n"
   ]
  },
  {
   "cell_type": "code",
   "execution_count": 4,
   "metadata": {},
   "outputs": [],
   "source": [
    "target = df['label'].tolist()\n",
    "data = df['text'].tolist()"
   ]
  },
  {
   "cell_type": "code",
   "execution_count": 5,
   "metadata": {},
   "outputs": [],
   "source": [
    "stopwords = stopwords.words('english')\n",
    "\n",
    "for i in range(0,len(data)):\n",
    "    words=word_tokenize(data[i])\n",
    "    filtered_words=\"\"\n",
    "    for word in words:\n",
    "        if word not in stopwords:\n",
    "            filtered_words=filtered_words+ ' ' +word\n",
    "    data[i]=filtered_words"
   ]
  },
  {
   "cell_type": "code",
   "execution_count": 6,
   "metadata": {},
   "outputs": [
    {
     "data": {
      "text/plain": [
       "' @ azzamalirhabi @ jihadia8 video peshmerga decimating isis far interesting . https : //t.co/d36g1z12np'"
      ]
     },
     "execution_count": 6,
     "metadata": {},
     "output_type": "execute_result"
    }
   ],
   "source": [
    "cutoff = int(len(data) * 0.80)\n",
    "x_train, x_test = data[:cutoff], data[cutoff:]\n",
    "y_train, y_test = target[:cutoff], target[cutoff:]\n",
    "x_train[1]"
   ]
  },
  {
   "cell_type": "code",
   "execution_count": 7,
   "metadata": {},
   "outputs": [],
   "source": [
    "num_words = 10000\n",
    "tokenizer = Tokenizer(num_words=num_words,\n",
    "               filters='!\"#$%&()*+,-./:;<=>?@[\\\\]^_`{\"}~\\t\\n',\n",
    "               lower=True,\n",
    "               char_level=False,\n",
    "               split=' ')"
   ]
  },
  {
   "cell_type": "code",
   "execution_count": 8,
   "metadata": {},
   "outputs": [],
   "source": [
    "import collections\n",
    "tokenizer.fit_on_texts(data)"
   ]
  },
  {
   "cell_type": "code",
   "execution_count": 9,
   "metadata": {},
   "outputs": [],
   "source": [
    "word_index = tokenizer.word_index"
   ]
  },
  {
   "cell_type": "code",
   "execution_count": 10,
   "metadata": {},
   "outputs": [
    {
     "data": {
      "text/plain": [
       "\" oh really ? instant restaurants ? 's shocking . # mkr # mkr2015\""
      ]
     },
     "execution_count": 10,
     "metadata": {},
     "output_type": "execute_result"
    }
   ],
   "source": [
    "x_train[2]"
   ]
  },
  {
   "cell_type": "code",
   "execution_count": 11,
   "metadata": {},
   "outputs": [],
   "source": [
    "x_train_tokens = tokenizer.texts_to_sequences(x_train)"
   ]
  },
  {
   "cell_type": "code",
   "execution_count": 12,
   "metadata": {},
   "outputs": [
    {
     "data": {
      "text/plain": [
       "' rt @ fruitondabottom : # feminismisequalitywhen men actually listened part dialog . # heforshe # womenagainstfeminism http : //t.…'"
      ]
     },
     "execution_count": 12,
     "metadata": {},
     "output_type": "execute_result"
    }
   ],
   "source": [
    "x_train[8]"
   ]
  },
  {
   "cell_type": "code",
   "execution_count": 13,
   "metadata": {},
   "outputs": [
    {
     "name": "stdout",
     "output_type": "stream",
     "text": [
      "[209, 613, 107, 8137, 136, 8649, 41, 244, 1964]\n"
     ]
    }
   ],
   "source": [
    "print(x_train_tokens[8])"
   ]
  },
  {
   "cell_type": "code",
   "execution_count": 14,
   "metadata": {},
   "outputs": [],
   "source": [
    "x_test_tokens = tokenizer.texts_to_sequences(x_test)"
   ]
  },
  {
   "cell_type": "code",
   "execution_count": 15,
   "metadata": {},
   "outputs": [],
   "source": [
    "num_tokens = [len(tokens) for tokens in x_train_tokens + x_test_tokens]\n",
    "num_tokens = np.array(num_tokens)\n"
   ]
  },
  {
   "cell_type": "code",
   "execution_count": 16,
   "metadata": {},
   "outputs": [
    {
     "data": {
      "text/plain": [
       "29.334892590878"
      ]
     },
     "execution_count": 16,
     "metadata": {},
     "output_type": "execute_result"
    }
   ],
   "source": [
    "np.mean(num_tokens)"
   ]
  },
  {
   "cell_type": "code",
   "execution_count": 17,
   "metadata": {},
   "outputs": [
    {
     "data": {
      "text/plain": [
       "2710"
      ]
     },
     "execution_count": 17,
     "metadata": {},
     "output_type": "execute_result"
    }
   ],
   "source": [
    "np.max(num_tokens)"
   ]
  },
  {
   "cell_type": "code",
   "execution_count": 18,
   "metadata": {},
   "outputs": [
    {
     "data": {
      "text/plain": [
       "47350"
      ]
     },
     "execution_count": 18,
     "metadata": {},
     "output_type": "execute_result"
    }
   ],
   "source": [
    "np.argmax(num_tokens)"
   ]
  },
  {
   "cell_type": "code",
   "execution_count": 19,
   "metadata": {},
   "outputs": [
    {
     "data": {
      "text/plain": [
       "\" @ nedgilmore rogue ? usually wpvp 'm questing : )\""
      ]
     },
     "execution_count": 19,
     "metadata": {},
     "output_type": "execute_result"
    }
   ],
   "source": [
    "x_train[12]"
   ]
  },
  {
   "cell_type": "code",
   "execution_count": 20,
   "metadata": {},
   "outputs": [
    {
     "data": {
      "text/plain": [
       "157"
      ]
     },
     "execution_count": 20,
     "metadata": {},
     "output_type": "execute_result"
    }
   ],
   "source": [
    "max_tokens = np.mean(num_tokens) + 2 * np.std(num_tokens)\n",
    "max_tokens = int(max_tokens)\n",
    "max_tokens"
   ]
  },
  {
   "cell_type": "code",
   "execution_count": 21,
   "metadata": {},
   "outputs": [
    {
     "data": {
      "text/plain": [
       "0.9768598810173638"
      ]
     },
     "execution_count": 21,
     "metadata": {},
     "output_type": "execute_result"
    }
   ],
   "source": [
    "np.sum(num_tokens < max_tokens) / len(num_tokens)"
   ]
  },
  {
   "cell_type": "code",
   "execution_count": 22,
   "metadata": {},
   "outputs": [],
   "source": [
    "x_train_pad = pad_sequences(x_train_tokens, maxlen=max_tokens)"
   ]
  },
  {
   "cell_type": "code",
   "execution_count": 23,
   "metadata": {},
   "outputs": [],
   "source": [
    "x_test_pad = pad_sequences(x_test_tokens, maxlen=max_tokens)"
   ]
  },
  {
   "cell_type": "code",
   "execution_count": 24,
   "metadata": {},
   "outputs": [
    {
     "data": {
      "text/plain": [
       "(115781, 157)"
      ]
     },
     "execution_count": 24,
     "metadata": {},
     "output_type": "execute_result"
    }
   ],
   "source": [
    "x_train_pad.shape"
   ]
  },
  {
   "cell_type": "code",
   "execution_count": 25,
   "metadata": {},
   "outputs": [
    {
     "data": {
      "text/plain": [
       "(28946, 157)"
      ]
     },
     "execution_count": 25,
     "metadata": {},
     "output_type": "execute_result"
    }
   ],
   "source": [
    "x_test_pad.shape"
   ]
  },
  {
   "cell_type": "code",
   "execution_count": 26,
   "metadata": {},
   "outputs": [
    {
     "data": {
      "text/plain": [
       "array([ 209,  613,  107, 8137,  136, 8649,   41,  244, 1964])"
      ]
     },
     "execution_count": 26,
     "metadata": {},
     "output_type": "execute_result"
    }
   ],
   "source": [
    "np.array(x_train_tokens[8])"
   ]
  },
  {
   "cell_type": "code",
   "execution_count": 27,
   "metadata": {},
   "outputs": [
    {
     "data": {
      "text/plain": [
       "array([   0,    0,    0,    0,    0,    0,    0,    0,    0,    0,    0,\n",
       "          0,    0,    0,    0,    0,    0,    0,    0,    0,    0,    0,\n",
       "          0,    0,    0,    0,    0,    0,    0,    0,    0,    0,    0,\n",
       "          0,    0,    0,    0,    0,    0,    0,    0,    0,    0,    0,\n",
       "          0,    0,    0,    0,    0,    0,    0,    0,    0,    0,    0,\n",
       "          0,    0,    0,    0,    0,    0,    0,    0,    0,    0,    0,\n",
       "          0,    0,    0,    0,    0,    0,    0,    0,    0,    0,    0,\n",
       "          0,    0,    0,    0,    0,    0,    0,    0,    0,    0,    0,\n",
       "          0,    0,    0,    0,    0,    0,    0,    0,    0,    0,    0,\n",
       "          0,    0,    0,    0,    0,    0,    0,    0,    0,    0,    0,\n",
       "          0,    0,    0,    0,    0,    0,    0,    0,    0,    0,    0,\n",
       "          0,    0,    0,    0,    0,    0,    0,    0,    0,    0,    0,\n",
       "          0,    0,    0,    0,    0,    0,    0,    0,    0,    0,    0,\n",
       "          0,    0,    0,    0,    0,  209,  613,  107, 8137,  136, 8649,\n",
       "         41,  244, 1964])"
      ]
     },
     "execution_count": 27,
     "metadata": {},
     "output_type": "execute_result"
    }
   ],
   "source": [
    "x_train_pad[8]"
   ]
  },
  {
   "cell_type": "code",
   "execution_count": 28,
   "metadata": {},
   "outputs": [],
   "source": [
    "idx = tokenizer.word_index\n",
    "inverse_map = dict(zip(idx.values(), idx.keys()))"
   ]
  },
  {
   "cell_type": "code",
   "execution_count": 29,
   "metadata": {},
   "outputs": [],
   "source": [
    "def tokens_to_string(tokens):\n",
    "    words = [inverse_map[token] for token in tokens if token!=0]\n",
    "    text = ' '.join(words)\n",
    "    return text"
   ]
  },
  {
   "cell_type": "code",
   "execution_count": 30,
   "metadata": {},
   "outputs": [
    {
     "data": {
      "text/plain": [
       "' rt @ fruitondabottom : # feminismisequalitywhen men actually listened part dialog . # heforshe # womenagainstfeminism http : //t.…'"
      ]
     },
     "execution_count": 30,
     "metadata": {},
     "output_type": "execute_result"
    }
   ],
   "source": [
    "x_train[8]"
   ]
  },
  {
   "cell_type": "code",
   "execution_count": 31,
   "metadata": {},
   "outputs": [
    {
     "data": {
      "text/plain": [
       "'rt men actually listened part dialog http t …'"
      ]
     },
     "execution_count": 31,
     "metadata": {},
     "output_type": "execute_result"
    }
   ],
   "source": [
    "tokens_to_string(x_train_tokens[8])"
   ]
  },
  {
   "cell_type": "code",
   "execution_count": 32,
   "metadata": {},
   "outputs": [
    {
     "name": "stdout",
     "output_type": "stream",
     "text": [
      "Loading GloVe from: glove/glove.6B.100d.txt ...Done.\n",
      " Proceeding with Embedding Matrix... Completed!\n"
     ]
    }
   ],
   "source": [
    "model = Sequential()\n",
    "embedding_matrix = np.random.random((len(word_index) + 1, EMBEDDING_DIM))\n",
    "from numpy import zeros\n",
    "embeddings_index = {}\n",
    "f = open(GLOVE_DIR,encoding=\"utf8\")\n",
    "print('Loading GloVe from:', GLOVE_DIR,'...', end='')\n",
    "for line in f:\n",
    "    values = line.split()\n",
    "    word = values[0]\n",
    "    embeddings_index[word] = np.asarray(values[1:], dtype='float32')\n",
    "f.close()\n",
    "print(\"Done.\\n Proceeding with Embedding Matrix...\", end=\"\")\n",
    "\n",
    "embedding_matrix = zeros((len(word_index) + 1, EMBEDDING_DIM))\n",
    "\n",
    "for word, i in word_index.items():\n",
    "    if i > len(word_index):\n",
    "        break\n",
    "    else:\n",
    "        embedding_vector = embeddings_index.get(word)\n",
    "        if embedding_vector is not None:\n",
    "            embedding_matrix[i] = embedding_vector\n",
    "print(\" Completed!\")"
   ]
  },
  {
   "cell_type": "code",
   "execution_count": 33,
   "metadata": {},
   "outputs": [],
   "source": [
    "embedding_size = 100\n",
    "vocab_size=len(word_index)+1"
   ]
  },
  {
   "cell_type": "code",
   "execution_count": 34,
   "metadata": {},
   "outputs": [
    {
     "name": "stdout",
     "output_type": "stream",
     "text": [
      "WARNING:tensorflow:From C:\\Users\\mehme\\Anaconda3\\lib\\site-packages\\tensorflow\\python\\keras\\initializers.py:119: calling RandomUniform.__init__ (from tensorflow.python.ops.init_ops) with dtype is deprecated and will be removed in a future version.\n",
      "Instructions for updating:\n",
      "Call initializer instance with the dtype argument instead of passing it to the constructor\n"
     ]
    }
   ],
   "source": [
    "model.add(Embedding(input_dim=len(word_index)+1,\n",
    "                    output_dim=embedding_size,\n",
    "                    weights = [embedding_matrix],\n",
    "                    input_length=max_tokens,\n",
    "                    name='embedding_layer'))"
   ]
  },
  {
   "cell_type": "code",
   "execution_count": 35,
   "metadata": {},
   "outputs": [
    {
     "name": "stdout",
     "output_type": "stream",
     "text": [
      "WARNING:tensorflow:From C:\\Users\\mehme\\Anaconda3\\lib\\site-packages\\tensorflow\\python\\ops\\init_ops.py:1251: calling VarianceScaling.__init__ (from tensorflow.python.ops.init_ops) with dtype is deprecated and will be removed in a future version.\n",
      "Instructions for updating:\n",
      "Call initializer instance with the dtype argument instead of passing it to the constructor\n"
     ]
    }
   ],
   "source": [
    "model.add(CuDNNGRU(units=32, return_sequences=True))\n",
    "model.add(CuDNNGRU(units=16, return_sequences=True))\n",
    "model.add(CuDNNGRU(units=8, return_sequences=True))\n",
    "model.add(CuDNNGRU(units=4))\n",
    "model.add(Dense(1, activation='sigmoid'))"
   ]
  },
  {
   "cell_type": "code",
   "execution_count": 36,
   "metadata": {},
   "outputs": [],
   "source": [
    "optimizer = Adam(lr=1e-3)"
   ]
  },
  {
   "cell_type": "code",
   "execution_count": 37,
   "metadata": {},
   "outputs": [
    {
     "name": "stdout",
     "output_type": "stream",
     "text": [
      "WARNING:tensorflow:From C:\\Users\\mehme\\Anaconda3\\lib\\site-packages\\tensorflow\\python\\ops\\nn_impl.py:180: add_dispatch_support.<locals>.wrapper (from tensorflow.python.ops.array_ops) is deprecated and will be removed in a future version.\n",
      "Instructions for updating:\n",
      "Use tf.where in 2.0, which has the same broadcast rule as np.where\n"
     ]
    }
   ],
   "source": [
    "from tensorflow.python.keras import backend as K\n",
    "def recall_score(y_true, y_pred):\n",
    "    true_positives = K.sum(K.round(K.clip(y_true * y_pred, 0, 1)))\n",
    "    possible_positives = K.sum(K.round(K.clip(y_true, 0, 1)))\n",
    "    recall = true_positives / (possible_positives + K.epsilon())\n",
    "    return recall\n",
    "\n",
    "def precision_score(y_true, y_pred):\n",
    "    true_positives = K.sum(K.round(K.clip(y_true * y_pred, 0, 1)))\n",
    "    predicted_positives = K.sum(K.round(K.clip(y_pred, 0, 1)))\n",
    "    precision = true_positives / (predicted_positives + K.epsilon())\n",
    "    return precision\n",
    "\n",
    "def f1_score(y_true, y_pred):\n",
    "    precision = precision_score(y_true, y_pred)\n",
    "    recall = recall_score(y_true, y_pred)\n",
    "    return 2*((precision*recall)/(precision+recall+K.epsilon()))\n",
    "\n",
    "model.compile(loss='binary_crossentropy',\n",
    "              optimizer=optimizer,\n",
    "              metrics=['accuracy',f1_score,precision_score, recall_score])"
   ]
  },
  {
   "cell_type": "code",
   "execution_count": 38,
   "metadata": {},
   "outputs": [
    {
     "name": "stdout",
     "output_type": "stream",
     "text": [
      "Model: \"sequential\"\n",
      "_________________________________________________________________\n",
      "Layer (type)                 Output Shape              Param #   \n",
      "=================================================================\n",
      "embedding_layer (Embedding)  (None, 157, 100)          17727400  \n",
      "_________________________________________________________________\n",
      "cu_dnngru (CuDNNGRU)         (None, 157, 32)           12864     \n",
      "_________________________________________________________________\n",
      "cu_dnngru_1 (CuDNNGRU)       (None, 157, 16)           2400      \n",
      "_________________________________________________________________\n",
      "cu_dnngru_2 (CuDNNGRU)       (None, 157, 8)            624       \n",
      "_________________________________________________________________\n",
      "cu_dnngru_3 (CuDNNGRU)       (None, 4)                 168       \n",
      "_________________________________________________________________\n",
      "dense (Dense)                (None, 2)                 10        \n",
      "_________________________________________________________________\n",
      "dense_1 (Dense)              (None, 1)                 3         \n",
      "=================================================================\n",
      "Total params: 17,743,469\n",
      "Trainable params: 17,743,469\n",
      "Non-trainable params: 0\n",
      "_________________________________________________________________\n"
     ]
    }
   ],
   "source": [
    "model.summary()"
   ]
  },
  {
   "cell_type": "code",
   "execution_count": 39,
   "metadata": {},
   "outputs": [
    {
     "name": "stdout",
     "output_type": "stream",
     "text": [
      "Train on 104202 samples, validate on 11579 samples\n",
      "Epoch 1/10\n",
      "104202/104202 [==============================] - 36s 348us/sample - loss: 0.6224 - acc: 0.8683 - f1_score: 0.1911 - precision_score: 0.3272 - recall_score: 0.1520 - val_loss: 0.5328 - val_acc: 0.9318 - val_f1_score: 0.6231 - val_precision_score: 0.8518 - val_recall_score: 0.4981\n",
      "Epoch 2/10\n",
      "104202/104202 [==============================] - 35s 333us/sample - loss: 0.4829 - acc: 0.9169 - f1_score: 0.6507 - precision_score: 0.8068 - recall_score: 0.5545 - val_loss: 0.4210 - val_acc: 0.9403 - val_f1_score: 0.6880 - val_precision_score: 0.8492 - val_recall_score: 0.5867\n",
      "Epoch 3/10\n",
      "104202/104202 [==============================] - 35s 333us/sample - loss: 0.3925 - acc: 0.9280 - f1_score: 0.7023 - precision_score: 0.8471 - recall_score: 0.6070 - val_loss: 0.3474 - val_acc: 0.9429 - val_f1_score: 0.7117 - val_precision_score: 0.8407 - val_recall_score: 0.6224\n",
      "Epoch 4/10\n",
      "104202/104202 [==============================] - 35s 333us/sample - loss: 0.3290 - acc: 0.9352 - f1_score: 0.7374 - precision_score: 0.8724 - recall_score: 0.6438 - val_loss: 0.3003 - val_acc: 0.9416 - val_f1_score: 0.6911 - val_precision_score: 0.8362 - val_recall_score: 0.5953\n",
      "Epoch 5/10\n",
      "104202/104202 [==============================] - 35s 335us/sample - loss: 0.2811 - acc: 0.9423 - f1_score: 0.7654 - precision_score: 0.8987 - recall_score: 0.6715 - val_loss: 0.2709 - val_acc: 0.9413 - val_f1_score: 0.6862 - val_precision_score: 0.8524 - val_recall_score: 0.5798\n",
      "Epoch 6/10\n",
      "104202/104202 [==============================] - 35s 334us/sample - loss: 0.2448 - acc: 0.9480 - f1_score: 0.7914 - precision_score: 0.9198 - recall_score: 0.6991 - val_loss: 0.2500 - val_acc: 0.9414 - val_f1_score: 0.6999 - val_precision_score: 0.8249 - val_recall_score: 0.6145\n",
      "Epoch 7/10\n",
      "104202/104202 [==============================] - 35s 332us/sample - loss: 0.2182 - acc: 0.9524 - f1_score: 0.8084 - precision_score: 0.9341 - recall_score: 0.7166 - val_loss: 0.2414 - val_acc: 0.9408 - val_f1_score: 0.7164 - val_precision_score: 0.7923 - val_recall_score: 0.6612\n",
      "Epoch 8/10\n",
      "104202/104202 [==============================] - 35s 333us/sample - loss: 0.1968 - acc: 0.9566 - f1_score: 0.8255 - precision_score: 0.9502 - recall_score: 0.7334 - val_loss: 0.2298 - val_acc: 0.9412 - val_f1_score: 0.7074 - val_precision_score: 0.8176 - val_recall_score: 0.6291\n",
      "Epoch 9/10\n",
      "104202/104202 [==============================] - 35s 333us/sample - loss: 0.1817 - acc: 0.9590 - f1_score: 0.8371 - precision_score: 0.9597 - recall_score: 0.7455 - val_loss: 0.2375 - val_acc: 0.9402 - val_f1_score: 0.7102 - val_precision_score: 0.7723 - val_recall_score: 0.6632\n",
      "Epoch 10/10\n",
      "104202/104202 [==============================] - 35s 333us/sample - loss: 0.1712 - acc: 0.9607 - f1_score: 0.8421 - precision_score: 0.9653 - recall_score: 0.7499 - val_loss: 0.2326 - val_acc: 0.9384 - val_f1_score: 0.7033 - val_precision_score: 0.7829 - val_recall_score: 0.6454\n"
     ]
    }
   ],
   "source": [
    "history=model.fit(x_train_pad, y_train, epochs=10, batch_size=256, shuffle=True,validation_split=0.1)"
   ]
  },
  {
   "cell_type": "code",
   "execution_count": 40,
   "metadata": {},
   "outputs": [
    {
     "name": "stdout",
     "output_type": "stream",
     "text": [
      "28946/28946 [==============================] - 12s 400us/sample - loss: 0.2304 - acc: 0.9389 - f1_score: 0.5890 - precision_score: 0.6862 - recall_score: 0.5611\n"
     ]
    }
   ],
   "source": [
    "resultTest = model.evaluate(x_test_pad, y_test)"
   ]
  },
  {
   "cell_type": "code",
   "execution_count": 41,
   "metadata": {},
   "outputs": [
    {
     "data": {
      "text/plain": [
       "0.93892074"
      ]
     },
     "execution_count": 41,
     "metadata": {},
     "output_type": "execute_result"
    }
   ],
   "source": [
    "resultTest[1]"
   ]
  },
  {
   "cell_type": "code",
   "execution_count": 42,
   "metadata": {},
   "outputs": [
    {
     "data": {
      "text/plain": [
       "array([0.07222366, 0.08107647, 0.07222366, ..., 0.07222366, 0.0722237 ,\n",
       "       0.0722237 ], dtype=float32)"
      ]
     },
     "execution_count": 42,
     "metadata": {},
     "output_type": "execute_result"
    }
   ],
   "source": [
    "y_pred = model.predict(x_test_pad)\n",
    "y_pred = y_pred.T[0]\n",
    "y_pred"
   ]
  },
  {
   "cell_type": "code",
   "execution_count": 43,
   "metadata": {},
   "outputs": [],
   "source": [
    "cls_pred = np.array([1.0 if p>0.5 else 0.0 for p in y_pred])"
   ]
  },
  {
   "cell_type": "code",
   "execution_count": 44,
   "metadata": {},
   "outputs": [],
   "source": [
    "cls_true = np.array(y_test)"
   ]
  },
  {
   "cell_type": "code",
   "execution_count": 45,
   "metadata": {},
   "outputs": [],
   "source": [
    "incorrect = np.where(cls_pred != cls_true)\n",
    "incorrect = incorrect[0]"
   ]
  },
  {
   "cell_type": "code",
   "execution_count": 46,
   "metadata": {},
   "outputs": [
    {
     "data": {
      "text/plain": [
       "1768"
      ]
     },
     "execution_count": 46,
     "metadata": {},
     "output_type": "execute_result"
    }
   ],
   "source": [
    "len(incorrect)"
   ]
  },
  {
   "cell_type": "code",
   "execution_count": 47,
   "metadata": {},
   "outputs": [
    {
     "data": {
      "text/plain": [
       "30"
      ]
     },
     "execution_count": 47,
     "metadata": {},
     "output_type": "execute_result"
    }
   ],
   "source": [
    "idx = incorrect[1]\n",
    "idx"
   ]
  },
  {
   "cell_type": "code",
   "execution_count": 48,
   "metadata": {},
   "outputs": [
    {
     "data": {
      "text/plain": [
       "' music recorded salvation army studio google name , google , obvious person read , psychopath loves tramp people achivements find nothing guy online ; bloody lying bastard ... grammar , wiki grammar fault , owners eventually correct ; wiki ; man psycho , remove comments ... www.eddy.nu'"
      ]
     },
     "execution_count": 48,
     "metadata": {},
     "output_type": "execute_result"
    }
   ],
   "source": [
    "text = x_test[idx]\n",
    "text"
   ]
  },
  {
   "cell_type": "code",
   "execution_count": 49,
   "metadata": {},
   "outputs": [
    {
     "data": {
      "text/plain": [
       "0.07222366"
      ]
     },
     "execution_count": 49,
     "metadata": {},
     "output_type": "execute_result"
    }
   ],
   "source": [
    "y_pred[idx]"
   ]
  },
  {
   "cell_type": "code",
   "execution_count": 50,
   "metadata": {},
   "outputs": [
    {
     "data": {
      "text/plain": [
       "1"
      ]
     },
     "execution_count": 50,
     "metadata": {},
     "output_type": "execute_result"
    }
   ],
   "source": [
    "cls_true[idx]"
   ]
  },
  {
   "cell_type": "code",
   "execution_count": 51,
   "metadata": {},
   "outputs": [],
   "source": [
    "text1 = \"this is not ``creative``.  those are the dictionary definitions of the terms ``insurance`` and ``ensurance`` as properly applied to ``destruction``.  if you don't understand that, fine, legitimate criticism, i'll write up ``three man cell`` and ``bounty hunter`` and then it will be easy to understand why ``ensured`` and ``insured`` are different - and why both differ from ``assured``.  the sentence you quote is absolutely neutral.  you just aren't familiar with the underlying theory of strike-back (e.g. submarines as employed in nuclear warfare) guiding the insurance, nor likely the three man cell structure that kept the ira from being broken by the british.  if that's my fault, fine, i can fix that to explain.  but ther'es nothing ``personal`` or ``creative`` about it.  i'm tired of arguing with you.  re: the other article, ``multi-party`` turns up plenty, and there is more use of ``mutually`` than ``mutual``.  if i were to apply your standard i'd be moving ``mutual assured destruction`` to ``talk`` for not appealing to a reagan voter's biases about its effectiveness, and for dropping the ``ly``.  there is a double standard in your edits.  if it comes from some us history book, like ``peace movement`` or 'm.a.d.' as defined in 1950, you like it, even if the definition is totally useless in 2002 and only of historical interest.    if it makes any even-obvious connection or implication from the language chosen in multiple profession-specific terms, you consider it somehow non-neutral...  gandhi thinks ``eye for an eye`` describes riots, death penalty, and war all at once, but you don't.  what do you know that gandhi doesn't?  guess what:  reality is not neutral.  current use of terms is slightly more controversial.  neutrality requires negotiation, and some willingness to learn.  this is your problem not mine.  you may dislike the writing, fine, that can be fixed.  but disregarding fundamental axioms of philosphy with names that recur in multiple phrases, or failing to make critical distinctions like 'insurance' versus 'assurance' versus 'ensurance' (which are made in one quote by an air force general in an in-context quote), is just a disservice to the reader.  if someone comes here to research a topic like mad, they want some context, beyond history.  if this is a history book, fine, it's a history book.  but that wasn't what it was claimed to be... \"\n",
    "text2 = \"important note for all sysops: there is a bug in the administrative move feature that truncates the moved history and changes the edit times.  please do not use this feature until this bug is fixed. more information can be found in the talk of  and . thank you. \"\n",
    "text3 = \"I know you,I'll kill you\"\n",
    "text4 = \"My best friend..You are very beautifulllll\"\n",
    "text7 = \"amazing.Thats good\"\n",
    "text8 = \"bitch.Son of a bitch\"\n",
    "text9 = \"why the us sucks ==  ya so the us sucs cuz bugh is dumb and they have to much army and people are to mean in new york and jesusland is to big and ya. so anyway, this was severs opinion\"\n",
    "text10 = \"fuck off you little asshole.\"\n",
    "texts = [text1, text2, text3, text4,   text7, text8, text9, text10]"
   ]
  },
  {
   "cell_type": "code",
   "execution_count": 52,
   "metadata": {},
   "outputs": [],
   "source": [
    "tokens = tokenizer.texts_to_sequences(texts)"
   ]
  },
  {
   "cell_type": "code",
   "execution_count": 53,
   "metadata": {},
   "outputs": [
    {
     "data": {
      "text/plain": [
       "(8, 157)"
      ]
     },
     "execution_count": 53,
     "metadata": {},
     "output_type": "execute_result"
    }
   ],
   "source": [
    "tokens_pad = pad_sequences(tokens, maxlen=max_tokens)\n",
    "tokens_pad.shape"
   ]
  },
  {
   "cell_type": "code",
   "execution_count": 54,
   "metadata": {},
   "outputs": [],
   "source": [
    "prediction=model.predict(x_test_pad)"
   ]
  },
  {
   "cell_type": "code",
   "execution_count": 55,
   "metadata": {},
   "outputs": [
    {
     "data": {
      "text/plain": [
       "array([[0.07222366],\n",
       "       [0.07222366],\n",
       "       [0.9895333 ],\n",
       "       [0.07222366],\n",
       "       [0.07222366],\n",
       "       [0.9935154 ],\n",
       "       [0.63598514],\n",
       "       [0.9945216 ]], dtype=float32)"
      ]
     },
     "execution_count": 55,
     "metadata": {},
     "output_type": "execute_result"
    }
   ],
   "source": [
    "model.predict(tokens_pad)"
   ]
  },
  {
   "cell_type": "code",
   "execution_count": 56,
   "metadata": {},
   "outputs": [
    {
     "data": {
      "text/plain": [
       "array([1973,  875,  279,   23,  619, 1568, 1188, 5892, 5081,  462,  256,\n",
       "       2463,  853,  840, 5096,  510,  644,  378,  338,  875, 1497,  215,\n",
       "        402, 6881, 1311, 1395, 1749, 2298, 1395, 2844, 6058,  562, 5915,\n",
       "        666,  213, 1975, 4970, 3514,  378, 1596, 1738,  378,   12, 2190,\n",
       "       6881,  469, 1596,  874, 2058, 2451,  402,  345,   25, 1030,  644,\n",
       "       2058, 2345, 5203, 1074, 1670, 1843,  666, 8465, 7164, 1498,  570,\n",
       "       1699, 2058, 2641,  170, 2451,  898,  378,   31, 2995,  462,  471,\n",
       "        607, 2190, 6366, 5251, 1372, 3514, 3333, 1030, 5347,  472, 2190,\n",
       "        853,  840, 4266, 1188, 3865, 1498,   26, 1836, 9102,    6, 4466,\n",
       "       4466, 9043, 4126,   47,  853,    8,  547, 2255, 2298, 1180,  918,\n",
       "        373,  853, 2298,  853,  730,  547, 2058, 4512,  537, 9509, 1498,\n",
       "        462, 1088, 1973,   58,  648, 4031, 1498,  310,  537,  367,    6,\n",
       "       2029, 4677,   32, 8465,  730, 1216,   92, 1973, 1699, 2058,  537,\n",
       "         92,  234,  607,  537,   92,  234, 3514, 2190, 1596,  875, 7386,\n",
       "       1175, 1498, 5251])"
      ]
     },
     "execution_count": 56,
     "metadata": {},
     "output_type": "execute_result"
    }
   ],
   "source": [
    "tokens_pad[0]"
   ]
  },
  {
   "cell_type": "code",
   "execution_count": 57,
   "metadata": {},
   "outputs": [
    {
     "name": "stdout",
     "output_type": "stream",
     "text": [
      "dict_keys(['loss', 'acc', 'f1_score', 'precision_score', 'recall_score', 'val_loss', 'val_acc', 'val_f1_score', 'val_precision_score', 'val_recall_score'])\n"
     ]
    },
    {
     "data": {
      "image/png": "[encoded data removed]",
      "text/plain": [
       "<Figure size 432x288 with 1 Axes>"
      ]
     },
     "metadata": {
      "needs_background": "light"
     },
     "output_type": "display_data"
    }
   ],
   "source": [
    "from matplotlib import pyplot as plt\n",
    "print(history.history.keys())\n",
    "\n",
    "# summarize result for accuracy\n",
    "plt.plot(history.history['acc'])\n",
    "plt.plot(history.history['val_acc'])\n",
    "plt.plot(history.history['recall_score'])\n",
    "plt.plot(history.history['precision_score'])\n",
    "plt.plot(history.history['f1_score'])\n",
    "plt.title('GRU Model')\n",
    "plt.ylabel('accuracy')\n",
    "plt.xlabel('epoch')\n",
    "plt.legend(['train', 'val','recall_score', 'precision_score', 'f1_score'], loc='lower right')\n",
    "plt.show()\n"
   ]
  },
  {
   "cell_type": "code",
   "execution_count": 58,
   "metadata": {},
   "outputs": [
    {
     "data": {
      "image/png": "[encoded data removed]",
      "text/plain": [
       "<Figure size 432x288 with 1 Axes>"
      ]
     },
     "metadata": {
      "needs_background": "light"
     },
     "output_type": "display_data"
    }
   ],
   "source": [
    "# summarize result for loss\n",
    "plt.plot(history.history['loss'])\n",
    "plt.plot(history.history['val_loss'])\n",
    "plt.title('model loss')\n",
    "plt.ylabel('loss')\n",
    "plt.xlabel('epoch')\n",
    "plt.legend(['train', 'test'], loc='upper right')\n",
    "plt.show()"
   ]
  },
  {
   "cell_type": "code",
   "execution_count": 59,
   "metadata": {},
   "outputs": [
    {
     "name": "stdout",
     "output_type": "stream",
     "text": [
      "Accuracy: 0.9389207489808609\n",
      "F1 score: 0.6838340486409156\n",
      "Recall: 0.7794537301263759\n",
      "Precision: 0.6091111819050653\n",
      "\n",
      " clasification report:\n",
      "               precision    recall  f1-score   support\n",
      "\n",
      "         0.0       0.98      0.95      0.97     26493\n",
      "         1.0       0.61      0.78      0.68      2453\n",
      "\n",
      "    accuracy                           0.94     28946\n",
      "   macro avg       0.79      0.87      0.83     28946\n",
      "weighted avg       0.95      0.94      0.94     28946\n",
      "\n"
     ]
    }
   ],
   "source": [
    "from sklearn.metrics import precision_score, recall_score, confusion_matrix, classification_report,    accuracy_score, f1_score\n",
    "\n",
    "print ('Accuracy:', accuracy_score(prediction.round(),y_test))\n",
    "print ('F1 score:', f1_score( prediction.round(),y_test))\n",
    "print ('Recall:', recall_score( prediction.round(),y_test))\n",
    "print ('Precision:', precision_score( prediction.round(),y_test))\n",
    "print ('\\n clasification report:\\n', classification_report(prediction.round(),y_test))\n",
    "\n"
   ]
  },
  {
   "cell_type": "code",
   "execution_count": null,
   "metadata": {},
   "outputs": [],
   "source": []
  }
 ],
 "metadata": {
  "kernelspec": {
   "display_name": "Python 3",
   "language": "python",
   "name": "python3"
  },
  "language_info": {
   "codemirror_mode": {
    "name": "ipython",
    "version": 3
   },
   "file_extension": ".py",
   "mimetype": "text/x-python",
   "name": "python",
   "nbconvert_exporter": "python",
   "pygments_lexer": "ipython3",
   "version": "3.7.6"
  }
 },
 "nbformat": 4,
 "nbformat_minor": 4
}
