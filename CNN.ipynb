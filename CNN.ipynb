{
 "cells": [
  {
   "cell_type": "code",
   "execution_count": 1,
   "metadata": {},
   "outputs": [],
   "source": [
    "import numpy as np\n",
    "import pandas as pd\n",
    "import pickle\n",
    "from nltk.corpus import stopwords\n",
    "from nltk.tokenize import word_tokenize\n",
    "from tensorflow.python.keras.models import Sequential\n",
    "from tensorflow.python.keras.layers import Dense, GRU, Embedding, CuDNNGRU ,Conv2D, Flatten , CuDNNLSTM\n",
    "from tensorflow.python.keras.optimizers import Adam\n",
    "from tensorflow.python.keras.preprocessing.text import Tokenizer\n",
    "from tensorflow.python.keras.preprocessing.sequence import pad_sequences\n",
    "EMBEDDING_DIM = 100      # embedding dimensions for word vectors (word2vec/GloVe)\n",
    "GLOVE_DIR = \"glove/glove.6B.\"+str(EMBEDDING_DIM)+\"d.txt\""
   ]
  },
  {
   "cell_type": "code",
   "execution_count": 2,
   "metadata": {},
   "outputs": [],
   "source": [
    "dataset = pd.read_csv('data.csv')\n",
    "df=pd.DataFrame(data,columns=['text','label'])\n",
    "\n",
    "\n",
    "\n",
    "target = df['label'].tolist()\n",
    "data = df['text'].tolist()\n"
   ]
  },
  {
   "cell_type": "code",
   "execution_count": 3,
   "metadata": {},
   "outputs": [],
   "source": [
    "stopwords = stopwords.words('english')\n",
    "\n",
    "for i in range(0,len(data)):\n",
    "    words=word_tokenize(data[i])\n",
    "    filtered_words=\"\"\n",
    "    for word in words:\n",
    "        if word not in stopwords:\n",
    "            filtered_words=filtered_words+ ' ' +word\n",
    "    data[i]=filtered_words\n"
   ]
  },
  {
   "cell_type": "code",
   "execution_count": 4,
   "metadata": {},
   "outputs": [
    {
     "data": {
      "text/plain": [
       "' @ azzamalirhabi @ jihadia8 video peshmerga decimating isis far interesting . https : //t.co/d36g1z12np'"
      ]
     },
     "execution_count": 4,
     "metadata": {},
     "output_type": "execute_result"
    }
   ],
   "source": [
    "cutoff = int(len(data) * 0.80)\n",
    "x_train, x_test = data[:cutoff], data[cutoff:]\n",
    "y_train, y_test = target[:cutoff], target[cutoff:]\n",
    "x_train[1]"
   ]
  },
  {
   "cell_type": "code",
   "execution_count": 5,
   "metadata": {},
   "outputs": [],
   "source": [
    "num_words = 10000\n",
    "tokenizer = Tokenizer(num_words=num_words,\n",
    "               filters='!\"#$%&()*+,-./:;<=>?@[\\\\]^_`{\"}~\\t\\n',\n",
    "               lower=True,\n",
    "               char_level=False,\n",
    "               split=' ')\n",
    "\n",
    "tokenizer.fit_on_texts(data)\n",
    "word_index = tokenizer.word_index\n",
    "x_train_tokens = tokenizer.texts_to_sequences(x_train)\n",
    "x_test_tokens = tokenizer.texts_to_sequences(x_test)"
   ]
  },
  {
   "cell_type": "code",
   "execution_count": 6,
   "metadata": {},
   "outputs": [
    {
     "data": {
      "text/plain": [
       "0.976742418484457"
      ]
     },
     "execution_count": 6,
     "metadata": {},
     "output_type": "execute_result"
    }
   ],
   "source": [
    "num_tokens = [len(tokens) for tokens in x_train_tokens + x_test_tokens]\n",
    "num_tokens = np.array(num_tokens)\n",
    "max_tokens = np.mean(num_tokens) + 2 * np.std(num_tokens)\n",
    "max_tokens = int(max_tokens)\n",
    "max_tokens\n",
    "np.sum(num_tokens < max_tokens) / len(num_tokens)"
   ]
  },
  {
   "cell_type": "code",
   "execution_count": 7,
   "metadata": {},
   "outputs": [],
   "source": [
    "x_train_pad = pad_sequences(x_train_tokens, maxlen=max_tokens)\n",
    "x_test_pad = pad_sequences(x_test_tokens, maxlen=max_tokens)"
   ]
  },
  {
   "cell_type": "code",
   "execution_count": 8,
   "metadata": {},
   "outputs": [],
   "source": [
    "idx = tokenizer.word_index\n",
    "inverse_map = dict(zip(idx.values(), idx.keys()))\n",
    "def tokens_to_string(tokens):\n",
    "    words = [inverse_map[token] for token in tokens if token!=0]\n",
    "    text = ' '.join(words)\n",
    "    return text"
   ]
  },
  {
   "cell_type": "code",
   "execution_count": 9,
   "metadata": {},
   "outputs": [
    {
     "name": "stdout",
     "output_type": "stream",
     "text": [
      "Loading GloVe from: glove/glove.6B.100d.txt ...Done.\n",
      " Proceeding with Embedding Matrix... Completed!\n"
     ]
    }
   ],
   "source": [
    "model = Sequential()\n",
    "embedding_matrix = np.random.random((len(word_index) + 1, EMBEDDING_DIM))\n",
    "from numpy import zeros\n",
    "embeddings_index = {}\n",
    "f = open(GLOVE_DIR,encoding=\"utf8\")\n",
    "print('Loading GloVe from:', GLOVE_DIR,'...', end='')\n",
    "for line in f:\n",
    "    values = line.split()\n",
    "    word = values[0]\n",
    "    embeddings_index[word] = np.asarray(values[1:], dtype='float32')\n",
    "f.close()\n",
    "print(\"Done.\\n Proceeding with Embedding Matrix...\", end=\"\")\n",
    "\n",
    "embedding_matrix = zeros((len(word_index) + 1, EMBEDDING_DIM))\n",
    "\n",
    "for word, i in word_index.items():\n",
    "    if i > len(word_index):\n",
    "        break\n",
    "    else:\n",
    "        embedding_vector = embeddings_index.get(word)\n",
    "        if embedding_vector is not None:\n",
    "            embedding_matrix[i] = embedding_vector\n",
    "print(\" Completed!\")"
   ]
  },
  {
   "cell_type": "code",
   "execution_count": 10,
   "metadata": {},
   "outputs": [],
   "source": [
    "embedding_size = 100\n",
    "\n",
    "vocab_size=len(word_index)"
   ]
  },
  {
   "cell_type": "code",
   "execution_count": 12,
   "metadata": {},
   "outputs": [
    {
     "name": "stdout",
     "output_type": "stream",
     "text": [
      "WARNING:tensorflow:From C:\\Users\\mehme\\Anaconda3\\lib\\site-packages\\tensorflow\\python\\ops\\nn_impl.py:180: add_dispatch_support.<locals>.wrapper (from tensorflow.python.ops.array_ops) is deprecated and will be removed in a future version.\n",
      "Instructions for updating:\n",
      "Use tf.where in 2.0, which has the same broadcast rule as np.where\n"
     ]
    }
   ],
   "source": [
    "from tensorflow.python.keras.models  import Sequential\n",
    "from tensorflow.python.keras  import layers\n",
    "\n",
    "model = Sequential()\n",
    "model.add(layers.Embedding(vocab_size, embedding_size, input_length=max_tokens))\n",
    "model.add(layers.Conv1D(256, 10, activation='relu'))\n",
    "model.add(layers.Conv1D(128, 10, activation='relu'))\n",
    "model.add(layers.GlobalMaxPooling1D())\n",
    "model.add(layers.Dense(1, activation='sigmoid'))\n",
    "\n",
    "\n",
    "\n",
    "from tensorflow.python.keras import backend as K\n",
    "def recall_score(y_true, y_pred):\n",
    "    true_positives = K.sum(K.round(K.clip(y_true * y_pred, 0, 1)))\n",
    "    possible_positives = K.sum(K.round(K.clip(y_true, 0, 1)))\n",
    "    recall = true_positives / (possible_positives + K.epsilon())\n",
    "    return recall\n",
    "\n",
    "def precision_score(y_true, y_pred):\n",
    "    true_positives = K.sum(K.round(K.clip(y_true * y_pred, 0, 1)))\n",
    "    predicted_positives = K.sum(K.round(K.clip(y_pred, 0, 1)))\n",
    "    precision = true_positives / (predicted_positives + K.epsilon())\n",
    "    return precision\n",
    "\n",
    "def f1_score(y_true, y_pred):\n",
    "    precision = precision_score(y_true, y_pred)\n",
    "    recall = recall_score(y_true, y_pred)\n",
    "    return 2*((precision*recall)/(precision+recall+K.epsilon()))\n",
    "\n",
    "model.compile(loss='binary_crossentropy',\n",
    "              optimizer=Adam(lr=1e-3),\n",
    "              metrics=['accuracy',f1_score,precision_score, recall_score])"
   ]
  },
  {
   "cell_type": "code",
   "execution_count": 13,
   "metadata": {},
   "outputs": [
    {
     "name": "stdout",
     "output_type": "stream",
     "text": [
      "Model: \"sequential_2\"\n",
      "_________________________________________________________________\n",
      "Layer (type)                 Output Shape              Param #   \n",
      "=================================================================\n",
      "embedding_1 (Embedding)      (None, 156, 100)          17578700  \n",
      "_________________________________________________________________\n",
      "conv1d_2 (Conv1D)            (None, 147, 256)          256256    \n",
      "_________________________________________________________________\n",
      "conv1d_3 (Conv1D)            (None, 138, 128)          327808    \n",
      "_________________________________________________________________\n",
      "global_max_pooling1d_1 (Glob (None, 128)               0         \n",
      "_________________________________________________________________\n",
      "dense (Dense)                (None, 1)                 129       \n",
      "=================================================================\n",
      "Total params: 18,162,893\n",
      "Trainable params: 18,162,893\n",
      "Non-trainable params: 0\n",
      "_________________________________________________________________\n"
     ]
    }
   ],
   "source": [
    "model.summary()"
   ]
  },
  {
   "cell_type": "code",
   "execution_count": 15,
   "metadata": {},
   "outputs": [
    {
     "name": "stdout",
     "output_type": "stream",
     "text": [
      "Train on 104202 samples, validate on 11579 samples\n",
      "Epoch 1/5\n",
      "104202/104202 [==============================] - 68s 654us/sample - loss: 0.1766 - acc: 0.9312 - f1_score: 0.7345 - precision_score: 0.8066 - recall_score: 0.6814 - val_loss: 0.1364 - val_acc: 0.9484 - val_f1_score: 0.7315 - val_precision_score: 0.8814 - val_recall_score: 0.6348\n",
      "Epoch 2/5\n",
      "104202/104202 [==============================] - 68s 652us/sample - loss: 0.1360 - acc: 0.9473 - f1_score: 0.8033 - precision_score: 0.8481 - recall_score: 0.7689 - val_loss: 0.1507 - val_acc: 0.9480 - val_f1_score: 0.7360 - val_precision_score: 0.8499 - val_recall_score: 0.6557\n",
      "Epoch 3/5\n",
      "104202/104202 [==============================] - 68s 652us/sample - loss: 0.0959 - acc: 0.9647 - f1_score: 0.8698 - precision_score: 0.8964 - recall_score: 0.8489 - val_loss: 0.1888 - val_acc: 0.9407 - val_f1_score: 0.7073 - val_precision_score: 0.8034 - val_recall_score: 0.6357\n",
      "Epoch 4/5\n",
      "104202/104202 [==============================] - 68s 652us/sample - loss: 0.0664 - acc: 0.9775 - f1_score: 0.9165 - precision_score: 0.9352 - recall_score: 0.9010 - val_loss: 0.2182 - val_acc: 0.9371 - val_f1_score: 0.7042 - val_precision_score: 0.7494 - val_recall_score: 0.6708\n",
      "Epoch 5/5\n",
      "104202/104202 [==============================] - 68s 652us/sample - loss: 0.0516 - acc: 0.9834 - f1_score: 0.9407 - precision_score: 0.9548 - recall_score: 0.9289 - val_loss: 0.2553 - val_acc: 0.9323 - val_f1_score: 0.6916 - val_precision_score: 0.7238 - val_recall_score: 0.6710\n"
     ]
    }
   ],
   "source": [
    "history = model.fit(x_train_pad, y_train,\n",
    "                    epochs=5,\n",
    "                    batch_size=256,shuffle=True,validation_split=0.1)"
   ]
  },
  {
   "cell_type": "code",
   "execution_count": 16,
   "metadata": {},
   "outputs": [
    {
     "name": "stdout",
     "output_type": "stream",
     "text": [
      "28946/28946 [==============================] - 7s 238us/sample - loss: 0.3392 - acc: 0.9282 - f1_score: 0.5631 - precision_score: 0.6254 - recall_score: 0.5668s - loss: 0.3227 - acc: 0.9291 - f1_score\n"
     ]
    }
   ],
   "source": [
    "result = model.evaluate(x_test_pad, y_test)"
   ]
  },
  {
   "cell_type": "code",
   "execution_count": 17,
   "metadata": {},
   "outputs": [
    {
     "data": {
      "text/plain": [
       "0.9282457"
      ]
     },
     "execution_count": 17,
     "metadata": {},
     "output_type": "execute_result"
    }
   ],
   "source": [
    "result[1]"
   ]
  },
  {
   "cell_type": "code",
   "execution_count": 22,
   "metadata": {},
   "outputs": [],
   "source": [
    "prediction=model.predict(x_test_pad)"
   ]
  },
  {
   "cell_type": "code",
   "execution_count": 23,
   "metadata": {},
   "outputs": [
    {
     "data": {
      "text/plain": [
       "array([[4.5001507e-06],\n",
       "       [3.2782555e-07],\n",
       "       [9.4381976e-01],\n",
       "       [9.2011893e-01]], dtype=float32)"
      ]
     },
     "execution_count": 23,
     "metadata": {},
     "output_type": "execute_result"
    }
   ],
   "source": [
    "text1 = \"this is not ``creative``.  those are the dictionary definitions of the terms ``insurance`` and ``ensurance`` as properly applied to ``destruction``.  if you don't understand that, fine, legitimate criticism, i'll write up ``three man cell`` and ``bounty hunter`` and then it will be easy to understand why ``ensured`` and ``insured`` are different - and why both differ from ``assured``.  the sentence you quote is absolutely neutral.  you just aren't familiar with the underlying theory of strike-back (e.g. submarines as employed in nuclear warfare) guiding the insurance, nor likely the three man cell structure that kept the ira from being broken by the british.  if that's my fault, fine, i can fix that to explain.  but ther'es nothing ``personal`` or ``creative`` about it.  i'm tired of arguing with you.  re: the other article, ``multi-party`` turns up plenty, and there is more use of ``mutually`` than ``mutual``.  if i were to apply your standard i'd be moving ``mutual assured destruction`` to ``talk`` for not appealing to a reagan voter's biases about its effectiveness, and for dropping the ``ly``.  there is a double standard in your edits.  if it comes from some us history book, like ``peace movement`` or 'm.a.d.' as defined in 1950, you like it, even if the definition is totally useless in 2002 and only of historical interest.    if it makes any even-obvious connection or implication from the language chosen in multiple profession-specific terms, you consider it somehow non-neutral...  gandhi thinks ``eye for an eye`` describes riots, death penalty, and war all at once, but you don't.  what do you know that gandhi doesn't?  guess what:  reality is not neutral.  current use of terms is slightly more controversial.  neutrality requires negotiation, and some willingness to learn.  this is your problem not mine.  you may dislike the writing, fine, that can be fixed.  but disregarding fundamental axioms of philosphy with names that recur in multiple phrases, or failing to make critical distinctions like 'insurance' versus 'assurance' versus 'ensurance' (which are made in one quote by an air force general in an in-context quote), is just a disservice to the reader.  if someone comes here to research a topic like mad, they want some context, beyond history.  if this is a history book, fine, it's a history book.  but that wasn't what it was claimed to be... \"\n",
    "text2 = \"important note for all sysops: there is a bug in the administrative move feature that truncates the moved history and changes the edit times.  please do not use this feature until this bug is fixed. more information can be found in the talk of  and . thank you. \"\n",
    "text3 = \"I know you,I'll kill you\"\n",
    "text4 = \"My best friend..You are very beautifulllll\"\n",
    "\n",
    "\n",
    "texts = [text1, text2, text3, text4]\n",
    "tokens = tokenizer.texts_to_sequences(texts)\n",
    "tokens_pad = pad_sequences(tokens, maxlen=max_tokens)\n",
    "model.predict(tokens_pad)"
   ]
  },
  {
   "cell_type": "code",
   "execution_count": 24,
   "metadata": {},
   "outputs": [
    {
     "name": "stdout",
     "output_type": "stream",
     "text": [
      "dict_keys(['loss', 'acc', 'f1_score', 'precision_score', 'recall_score', 'val_loss', 'val_acc', 'val_f1_score', 'val_precision_score', 'val_recall_score'])\n"
     ]
    },
    {
     "data": {
      "image/png": "[encoded data removed]",
      "text/plain": [
       "<Figure size 432x288 with 1 Axes>"
      ]
     },
     "metadata": {
      "needs_background": "light"
     },
     "output_type": "display_data"
    }
   ],
   "source": [
    "from matplotlib import pyplot as plt\n",
    "print(history.history.keys())\n",
    "\n",
    "# summarize result for accuracy\n",
    "plt.plot(history.history['acc'])\n",
    "plt.plot(history.history['val_acc'])\n",
    "plt.plot(history.history['recall_score'])\n",
    "plt.plot(history.history['precision_score'])\n",
    "plt.plot(history.history['f1_score'])\n",
    "plt.title('CNN Model')\n",
    "plt.ylabel('accuracy')\n",
    "plt.xlabel('epoch')\n",
    "plt.legend(['train', 'val','recall_score', 'precision_score', 'f1_score'], loc='lower right')\n",
    "plt.show()\n"
   ]
  },
  {
   "cell_type": "code",
   "execution_count": 25,
   "metadata": {},
   "outputs": [
    {
     "name": "stdout",
     "output_type": "stream",
     "text": [
      "Accuracy: 0.9282456988875838\n",
      "F1 score: 0.6488588334742181\n",
      "Recall: 0.6912824207492796\n",
      "Precision: 0.6113411914622491\n",
      "\n",
      " clasification report:\n",
      "               precision    recall  f1-score   support\n",
      "\n",
      "         0.0       0.97      0.95      0.96     26170\n",
      "         1.0       0.61      0.69      0.65      2776\n",
      "\n",
      "    accuracy                           0.93     28946\n",
      "   macro avg       0.79      0.82      0.80     28946\n",
      "weighted avg       0.93      0.93      0.93     28946\n",
      "\n"
     ]
    }
   ],
   "source": [
    "from sklearn.metrics import precision_score, recall_score, confusion_matrix, classification_report,    accuracy_score, f1_score\n",
    "\n",
    "print ('Accuracy:', accuracy_score(prediction.round(),y_test))\n",
    "print ('F1 score:', f1_score( prediction.round(),y_test))\n",
    "print ('Recall:', recall_score( prediction.round(),y_test))\n",
    "print ('Precision:', precision_score( prediction.round(),y_test))\n",
    "print ('\\n clasification report:\\n', classification_report(prediction.round(),y_test))\n",
    "\n"
   ]
  },
  {
   "cell_type": "code",
   "execution_count": null,
   "metadata": {},
   "outputs": [],
   "source": []
  }
 ],
 "metadata": {
  "kernelspec": {
   "display_name": "Python 3",
   "language": "python",
   "name": "python3"
  },
  "language_info": {
   "codemirror_mode": {
    "name": "ipython",
    "version": 3
   },
   "file_extension": ".py",
   "mimetype": "text/x-python",
   "name": "python",
   "nbconvert_exporter": "python",
   "pygments_lexer": "ipython3",
   "version": "3.7.6"
  }
 },
 "nbformat": 4,
 "nbformat_minor": 4
}
